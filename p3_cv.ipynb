{
  "nbformat": 4,
  "nbformat_minor": 0,
  "metadata": {
    "colab": {
      "provenance": []
    },
    "kernelspec": {
      "name": "python3",
      "display_name": "Python 3"
    },
    "language_info": {
      "name": "python"
    }
  },
  "cells": [
    {
      "cell_type": "markdown",
      "source": [
        "**Aim: To apply and analyze the effects of Gaussian, Sobel, and Median filters on digital images, demonstrating their respective functionalities in noise reduction, edge detection, and noise removal.**"
      ],
      "metadata": {
        "id": "qiNRYtW5Qq5J"
      }
    },
    {
      "cell_type": "markdown",
      "source": [
        "Gaussian Blur: Type 1\n",
        "\n",
        "```\n",
        "# This is formatted as code\n",
        "```\n",
        "\n"
      ],
      "metadata": {
        "id": "v6psNiXsRLLK"
      }
    },
    {
      "cell_type": "code",
      "source": [
        "import cv2\n",
        "import numpy as np\n",
        "import matplotlib.pyplot as plt\n",
        "\n",
        "img = cv2.imread('/content/butterfly.jpg')\n",
        "if img is not None:\n",
        "    img_rgb = cv2.cvtColor(img, cv2.COLOR_BGR2RGB)\n",
        "    plt.imshow(img_rgb)\n",
        "    plt.title(\"Original Image\")\n",
        "    plt.show()\n",
        "\n",
        "    gaussian_blur = cv2.GaussianBlur(img, (15, 15), 0)\n",
        "    gaussian_blur_rgb = cv2.cvtColor(gaussian_blur, cv2.COLOR_BGR2RGB)\n",
        "    plt.imshow(gaussian_blur_rgb)\n",
        "    plt.title(\"Gaussian Blurred Image\")\n",
        "    plt.show()\n"
      ],
      "metadata": {
        "id": "tthuT3IlRC04"
      },
      "execution_count": null,
      "outputs": []
    },
    {
      "cell_type": "markdown",
      "source": [
        "Gaussian Blur: Type 2(with grayscale)\n"
      ],
      "metadata": {
        "id": "nMbJFdMKRchH"
      }
    },
    {
      "cell_type": "code",
      "source": [
        "    image_gray = cv2.cvtColor(img, cv2.COLOR_BGR2GRAY)\n",
        "    gaussian_blur = cv2.GaussianBlur(image_gray, (5, 5), 0)\n",
        "\n",
        "    plt.figure(figsize=(10, 5))\n",
        "\n",
        "    plt.subplot(1, 2, 1)\n",
        "    plt.title(\"Original Image\")\n",
        "    plt.imshow(image_gray, cmap='gray')\n",
        "    plt.axis('off')\n",
        "\n",
        "    plt.subplot(1, 2, 2)\n",
        "    plt.title(\"Gaussian Blurred Image\")\n",
        "    plt.imshow(gaussian_blur, cmap='gray')\n",
        "    plt.axis('off')\n",
        "\n",
        "    plt.tight_layout()\n",
        "    plt.show()\n"
      ],
      "metadata": {
        "id": "HW6rww5oRZ4J"
      },
      "execution_count": null,
      "outputs": []
    },
    {
      "cell_type": "markdown",
      "source": [
        " Median Blur: Type 1"
      ],
      "metadata": {
        "id": "3AR-CPowR4P7"
      }
    },
    {
      "cell_type": "code",
      "source": [
        "    plt.imshow(cv2.cvtColor(img, cv2.COLOR_BGR2RGB))\n",
        "    plt.title(\"Original Image\")\n",
        "    plt.show()\n",
        "\n",
        "    median_blur = cv2.medianBlur(img, 5)\n",
        "    plt.imshow(cv2.cvtColor(median_blur, cv2.COLOR_BGR2RGB))\n",
        "    plt.title(\"Median Blurred Image\")\n",
        "    plt.show()\n"
      ],
      "metadata": {
        "id": "brR4rWNjR4W5"
      },
      "execution_count": null,
      "outputs": []
    },
    {
      "cell_type": "markdown",
      "source": [
        "Median: Type 2(with grayscale)\n",
        "\n",
        "\n"
      ],
      "metadata": {
        "id": "5SMPLomtSNfT"
      }
    },
    {
      "cell_type": "code",
      "source": [
        "\n",
        "    image_gray = cv2.cvtColor(img, cv2.COLOR_BGR2GRAY)\n",
        "    median_blur = cv2.medianBlur(image_gray, 9)\n",
        "\n",
        "    plt.figure(figsize=(10, 5))\n",
        "\n",
        "    plt.subplot(1, 2, 1)\n",
        "    plt.title(\"Original Image\")\n",
        "    plt.imshow(image_gray, cmap='gray')\n",
        "    plt.axis('off')\n",
        "\n",
        "    plt.subplot(1, 2, 2)\n",
        "    plt.title(\"Median Blurred Image\")\n",
        "    plt.imshow(median_blur, cmap='gray')\n",
        "    plt.axis('off')\n",
        "\n",
        "    plt.tight_layout()\n",
        "    plt.show()\n"
      ],
      "metadata": {
        "id": "KBnS69EiSNqa"
      },
      "execution_count": null,
      "outputs": []
    },
    {
      "cell_type": "markdown",
      "source": [
        "Sobel Blur\n"
      ],
      "metadata": {
        "id": "g33MJ_shSdrR"
      }
    },
    {
      "cell_type": "code",
      "source": [
        "img = cv2.imread('/content/butterfly.jpg', cv2.IMREAD_GRAYSCALE)\n",
        "if img is not None:\n",
        "    sobelx = cv2.Sobel(src=img, ddepth=cv2.CV_64F, dx=1, dy=0, ksize=5)\n",
        "    sobely = cv2.Sobel(src=img, ddepth=cv2.CV_64F, dx=0, dy=1, ksize=5)\n",
        "\n",
        "    abs_grad_x = cv2.convertScaleAbs(sobelx)\n",
        "    abs_grad_y = cv2.convertScaleAbs(sobely)\n",
        "    grad = cv2.addWeighted(abs_grad_x, 0.5, abs_grad_y, 0.5, 0)\n",
        "\n",
        "    plt.figure(figsize=(10, 5))\n",
        "\n",
        "    plt.subplot(1, 2, 1)\n",
        "    plt.title(\"Original Image\")\n",
        "    plt.imshow(img, cmap='gray')\n",
        "    plt.axis('off')\n",
        "\n",
        "    plt.subplot(1, 2, 2)\n",
        "    plt.title(\"Sobel Edge Detection\")\n",
        "    plt.imshow(grad, cmap='gray')\n",
        "    plt.axis('off')\n",
        "\n",
        "    plt.tight_layout()\n",
        "    plt.show()\n"
      ],
      "metadata": {
        "id": "7UP_f0-sSeVY"
      },
      "execution_count": null,
      "outputs": []
    },
    {
      "cell_type": "code",
      "source": [
        "    sobel_x = cv2.Sobel(img, cv2.CV_64F, 1, 0, ksize=3)\n",
        "    sobel_y = cv2.Sobel(img, cv2.CV_64F, 0, 1, ksize=3)\n",
        "    sobel_combined = cv2.magnitude(sobel_x, sobel_y)\n",
        "    sobel_combined = cv2.normalize(sobel_combined, None, 0, 255, cv2.NORM_MINMAX)\n",
        "\n",
        "    plt.figure(figsize=(15, 5))\n",
        "\n",
        "    plt.subplot(1, 3, 1)\n",
        "    plt.title(\"Sobel X\")\n",
        "    plt.imshow(np.abs(sobel_x), cmap='gray')\n",
        "    plt.axis('off')\n",
        "\n",
        "    plt.subplot(1, 3, 2)\n",
        "    plt.title(\"Sobel Y\")\n",
        "    plt.imshow(np.abs(sobel_y), cmap='gray')\n",
        "    plt.axis('off')\n",
        "\n",
        "    plt.subplot(1, 3, 3)\n",
        "    plt.title(\"Sobel Combined\")\n",
        "    plt.imshow(sobel_combined, cmap='gray')\n",
        "    plt.axis('off')\n",
        "\n",
        "    plt.tight_layout()\n",
        "    plt.show()\n"
      ],
      "metadata": {
        "id": "WdApfcVMSpwS"
      },
      "execution_count": null,
      "outputs": []
    }
  ]
}